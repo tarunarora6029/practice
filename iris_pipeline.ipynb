{
 "cells": [
  {
   "cell_type": "code",
   "execution_count": null,
   "id": "5eea93ee-0a0b-4648-a8b8-b09093a53f17",
   "metadata": {
    "tags": []
   },
   "outputs": [],
   "source": [
    "!rm -rf .git .dvc iris.csv.dvc artifacts __pycache__ .ipynb_checkpoints .gitignore dvc.yaml dvc.lock"
   ]
  },
  {
   "cell_type": "code",
   "execution_count": null,
   "id": "0caf9c41-d54f-4191-8c89-e4200a070baa",
   "metadata": {
    "tags": []
   },
   "outputs": [],
   "source": [
    "!pip install -q dvc[gs] scikit-learn pandas joblib\n",
    "!pip install -q --upgrade google-cloud-aiplatform"
   ]
  },
  {
   "cell_type": "code",
   "execution_count": null,
   "id": "90eec911-7547-4114-a656-ff02eb4adf91",
   "metadata": {
    "tags": []
   },
   "outputs": [],
   "source": [
    "!git init\n",
    "!dvc init\n",
    "!git config user.email \"tarunarora6029@email.com\"\n",
    "!git config user.name \"tarunarora6029\""
   ]
  },
  {
   "cell_type": "code",
   "execution_count": null,
   "id": "033e88fb-126f-4587-917e-5190ee6676c1",
   "metadata": {
    "tags": []
   },
   "outputs": [],
   "source": [
    "from google.cloud import aiplatform\n",
    "\n",
    "PROJECT_ID = \"verdant-nova-461606-f4\"\n",
    "LOCATION = \"us-central1\"\n",
    "BUCKET_URI = \"gs://ibdpractice\"\n",
    "DVC_REMOTE = \"gcsremote\"\n",
    "\n",
    "aiplatform.init(project=PROJECT_ID, location=LOCATION, staging_bucket=BUCKET_URI)\n",
    "!dvc remote add -d {DVC_REMOTE} {BUCKET_URI}/dvcstore"
   ]
  },
  {
   "cell_type": "code",
   "execution_count": null,
   "id": "d353598c-b49e-47ee-8e31-adde16be777e",
   "metadata": {
    "tags": []
   },
   "outputs": [],
   "source": [
    "import pandas as pd\n",
    "from sklearn.model_selection import train_test_split\n",
    "from sklearn.tree import DecisionTreeClassifier\n",
    "from sklearn import metrics\n",
    "\n",
    "df = pd.read_csv(\"iris.csv\")\n",
    "train, test = train_test_split(df, test_size=0.4, stratify=df['species'], random_state=42)\n",
    "\n",
    "X_train = train[['sepal_length', 'sepal_width', 'petal_length', 'petal_width']]\n",
    "y_train = train['species']\n",
    "X_test = test[['sepal_length', 'sepal_width', 'petal_length', 'petal_width']]\n",
    "y_test = test['species']\n",
    "\n",
    "model = DecisionTreeClassifier(max_depth=3, random_state=1)\n",
    "model.fit(X_train, y_train)\n",
    "\n",
    "preds = model.predict(X_test)\n",
    "print(\"Accuracy:\", metrics.accuracy_score(y_test, preds))"
   ]
  },
  {
   "cell_type": "code",
   "execution_count": null,
   "id": "dcb2c390-cbb1-4f24-af34-e6c94d2f0b98",
   "metadata": {
    "tags": []
   },
   "outputs": [],
   "source": [
    "import joblib\n",
    "import os\n",
    "\n",
    "os.makedirs(\"artifacts\", exist_ok=True)\n",
    "joblib.dump(model, \"artifacts/model.joblib\")"
   ]
  },
  {
   "cell_type": "code",
   "execution_count": null,
   "id": "bcc4c63b-ae49-49bd-af56-84466c7fa6b1",
   "metadata": {
    "tags": []
   },
   "outputs": [],
   "source": [
    "# Track dataset\n",
    "!dvc add iris.csv\n",
    "!echo '!iris.csv.dvc' >> .gitignore\n",
    "\n",
    "# Track model\n",
    "!dvc add artifacts/model.joblib\n",
    "!echo '!artifacts/**.dvc' >> .gitignore\n",
    "\n",
    "# Stage all\n",
    "!git add .gitignore iris.csv.dvc artifacts/model.joblib.dvc\n",
    "!git commit -m \"Initial commit: iris + model\"\n",
    "!dvc push"
   ]
  },
  {
   "cell_type": "code",
   "execution_count": null,
   "id": "daa6d2de-8978-4112-8af6-1bfc1b4689b8",
   "metadata": {
    "tags": []
   },
   "outputs": [],
   "source": [
    "!git add .\n",
    "!git commit -m \"Initial commit: cleaned repo with DVC tracking\"\n",
    "!git remote add origin git@github.com:tarunarora6029/practice.git\n",
    "!git push -u origin main --force"
   ]
  }
 ],
 "metadata": {
  "environment": {
   "kernel": "conda-base-py",
   "name": "workbench-notebooks.m131",
   "type": "gcloud",
   "uri": "us-docker.pkg.dev/deeplearning-platform-release/gcr.io/workbench-notebooks:m131"
  },
  "kernelspec": {
   "display_name": "Python 3 (ipykernel)",
   "language": "python",
   "name": "conda-base-py"
  },
  "language_info": {
   "codemirror_mode": {
    "name": "ipython",
    "version": 3
   },
   "file_extension": ".py",
   "mimetype": "text/x-python",
   "name": "python",
   "nbconvert_exporter": "python",
   "pygments_lexer": "ipython3",
   "version": "3.10.18"
  }
 },
 "nbformat": 4,
 "nbformat_minor": 5
}
