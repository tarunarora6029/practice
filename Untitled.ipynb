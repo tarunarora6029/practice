{
 "cells": [
  {
   "cell_type": "code",
   "execution_count": 1,
   "id": "0feeb39c-14bc-4669-9b30-b1f44a5f67f9",
   "metadata": {
    "tags": []
   },
   "outputs": [],
   "source": [
    "!rm -rf .git .dvc iris.csv.dvc artifacts __pycache__ .ipynb_checkpoints .gitignore"
   ]
  },
  {
   "cell_type": "code",
   "execution_count": 2,
   "id": "53f432e2-bf99-4d6f-8441-39400de22202",
   "metadata": {
    "tags": []
   },
   "outputs": [],
   "source": [
    "!pip install -q dvc[gs] scikit-learn pandas joblib mlflow\n",
    "!pip install -q --upgrade google-cloud-aiplatform"
   ]
  },
  {
   "cell_type": "code",
   "execution_count": 3,
   "id": "44198f3f-c0f4-4e48-9b0c-9bcdcc30b971",
   "metadata": {
    "tags": []
   },
   "outputs": [
    {
     "name": "stdout",
     "output_type": "stream",
     "text": [
      "\u001b[33mhint: Using 'master' as the name for the initial branch. This default branch name\u001b[m\n",
      "\u001b[33mhint: is subject to change. To configure the initial branch name to use in all\u001b[m\n",
      "\u001b[33mhint: of your new repositories, which will suppress this warning, call:\u001b[m\n",
      "\u001b[33mhint: \u001b[m\n",
      "\u001b[33mhint: \tgit config --global init.defaultBranch <name>\u001b[m\n",
      "\u001b[33mhint: \u001b[m\n",
      "\u001b[33mhint: Names commonly chosen instead of 'master' are 'main', 'trunk' and\u001b[m\n",
      "\u001b[33mhint: 'development'. The just-created branch can be renamed via this command:\u001b[m\n",
      "\u001b[33mhint: \u001b[m\n",
      "\u001b[33mhint: \tgit branch -m <name>\u001b[m\n",
      "Initialized empty Git repository in /home/jupyter/practice/.git/\n",
      "Initialized DVC repository.\n",
      "\n",
      "You can now commit the changes to git.\n",
      "\n",
      "\u001b[31m+---------------------------------------------------------------------+\n",
      "\u001b[0m\u001b[31m|\u001b[0m                                                                     \u001b[31m|\u001b[0m\n",
      "\u001b[31m|\u001b[0m        DVC has enabled anonymous aggregate usage analytics.         \u001b[31m|\u001b[0m\n",
      "\u001b[31m|\u001b[0m     Read the analytics documentation (and how to opt-out) here:     \u001b[31m|\u001b[0m\n",
      "\u001b[31m|\u001b[0m             <\u001b[36mhttps://dvc.org/doc/user-guide/analytics\u001b[39m>              \u001b[31m|\u001b[0m\n",
      "\u001b[31m|\u001b[0m                                                                     \u001b[31m|\u001b[0m\n",
      "\u001b[31m+---------------------------------------------------------------------+\n",
      "\u001b[0m\n",
      "\u001b[33mWhat's next?\u001b[39m\n",
      "\u001b[33m------------\u001b[39m\n",
      "- Check out the documentation: <\u001b[36mhttps://dvc.org/doc\u001b[39m>\n",
      "- Get help and share ideas: <\u001b[36mhttps://dvc.org/chat\u001b[39m>\n",
      "- Star us on GitHub: <\u001b[36mhttps://github.com/iterative/dvc\u001b[39m>\n",
      "\u001b[0m"
     ]
    }
   ],
   "source": [
    "!git init\n",
    "!dvc init\n",
    "!git config user.email \"tarunarora6029@email.com\"\n",
    "!git config user.name \"tarunarora6029\""
   ]
  },
  {
   "cell_type": "code",
   "execution_count": 4,
   "id": "bd959e9b-c36a-493b-9307-651701ba28f8",
   "metadata": {
    "tags": []
   },
   "outputs": [],
   "source": [
    "from google.cloud import aiplatform\n",
    "import os\n",
    "import sys"
   ]
  },
  {
   "cell_type": "code",
   "execution_count": 5,
   "id": "99d254eb-d605-472d-972c-69dd0ef6514b",
   "metadata": {
    "tags": []
   },
   "outputs": [],
   "source": [
    "PROJECT_ID = \"verdant-nova-461606-f4\"\n",
    "LOCATION = \"us-central1\"\n",
    "BUCKET_URI = f\"gs://ibdpractice\"\n",
    "DVC_REMOTE = \"gcsremote\"\n",
    "MODEL_ARTIFACT_DIR = \"my-models/iris\"\n",
    "REPOSITORY = \"iris-classifier-repo\"\n",
    "IMAGE = \"iris-classifier-img\"\n",
    "MODEL_DISPLAY_NAME = \"iris-classifier\""
   ]
  },
  {
   "cell_type": "code",
   "execution_count": 6,
   "id": "70cc3690-22ec-4643-82d9-bc1d435de3e9",
   "metadata": {
    "tags": []
   },
   "outputs": [],
   "source": [
    "aiplatform.init(project=PROJECT_ID, location=LOCATION, staging_bucket=BUCKET_URI)"
   ]
  },
  {
   "cell_type": "code",
   "execution_count": 7,
   "id": "2667550a-ca6e-4771-b2ea-57d01031ff09",
   "metadata": {
    "tags": []
   },
   "outputs": [
    {
     "name": "stdout",
     "output_type": "stream",
     "text": [
      "Setting 'gcsremote' as a default remote.\n",
      "\u001b[0m"
     ]
    }
   ],
   "source": [
    "!dvc remote add -d {DVC_REMOTE} {BUCKET_URI}/dvcstore"
   ]
  },
  {
   "cell_type": "code",
   "execution_count": 8,
   "id": "72611fe2-10b3-426c-8509-3086f4c007e1",
   "metadata": {
    "tags": []
   },
   "outputs": [],
   "source": [
    "import mlflow\n",
    "from mlflow import MlflowClient\n",
    "from mlflow.models import infer_signature\n",
    "from pprint import pprint"
   ]
  },
  {
   "cell_type": "code",
   "execution_count": 9,
   "id": "0046943b-6302-404c-b027-cdc30670a1a0",
   "metadata": {
    "tags": []
   },
   "outputs": [],
   "source": [
    "mlflow.set_tracking_uri(\"http://127.0.0.1:8100\")\n",
    "client = MlflowClient(mlflow.get_tracking_uri())"
   ]
  },
  {
   "cell_type": "code",
   "execution_count": 10,
   "id": "fde6c06b-b253-48e6-a8b1-115b89822fad",
   "metadata": {
    "tags": []
   },
   "outputs": [
    {
     "name": "stdout",
     "output_type": "stream",
     "text": [
      "Available experiments:\n",
      "[<Experiment: artifact_location='mlflow-artifacts:/0', creation_time=1752978486617, experiment_id='0', last_update_time=1752978486617, lifecycle_stage='active', name='Default', tags={}>]\n"
     ]
    }
   ],
   "source": [
    "all_experiments = client.search_experiments()\n",
    "print(\"Available experiments:\")\n",
    "pprint(all_experiments)"
   ]
  },
  {
   "cell_type": "code",
   "execution_count": 11,
   "id": "2001e88e-9519-4d23-958a-d044b9ee185e",
   "metadata": {
    "tags": []
   },
   "outputs": [
    {
     "name": "stderr",
     "output_type": "stream",
     "text": [
      "2025/07/20 03:03:49 INFO mlflow.tracking.fluent: Experiment with name 'IRIS classifier: MLflow Hands-On' does not exist. Creating a new experiment.\n"
     ]
    },
    {
     "data": {
      "text/plain": [
       "<Experiment: artifact_location='mlflow-artifacts:/389631125268629828', creation_time=1752980629728, experiment_id='389631125268629828', last_update_time=1752980629728, lifecycle_stage='active', name='IRIS classifier: MLflow Hands-On', tags={}>"
      ]
     },
     "execution_count": 11,
     "metadata": {},
     "output_type": "execute_result"
    }
   ],
   "source": [
    "mlflow.set_experiment(\"IRIS classifier: MLflow Hands-On\")"
   ]
  },
  {
   "cell_type": "code",
   "execution_count": 12,
   "id": "f7472be5-00c2-48bd-b18c-958eeab386b8",
   "metadata": {
    "tags": []
   },
   "outputs": [],
   "source": [
    "import pandas as pd\n",
    "import numpy as np\n",
    "from sklearn.model_selection import train_test_split\n",
    "from pandas.plotting import parallel_coordinates\n",
    "from sklearn.tree import DecisionTreeClassifier, plot_tree\n",
    "from sklearn import metrics\n",
    "import joblib\n",
    "import pickle"
   ]
  },
  {
   "cell_type": "code",
   "execution_count": 13,
   "id": "3fe0ade6-6ed2-479f-8a82-0f0ee25347bb",
   "metadata": {
    "tags": []
   },
   "outputs": [
    {
     "name": "stdout",
     "output_type": "stream",
     "text": [
      "Dataset shape: (150, 5)\n",
      "Unique species: ['setosa' 'versicolor' 'virginica']\n",
      "   sepal_length  sepal_width  petal_length  petal_width species\n",
      "0           5.1          3.5           1.4          0.2  setosa\n",
      "1           4.9          3.0           1.4          0.2  setosa\n",
      "2           4.7          3.2           1.3          0.2  setosa\n",
      "3           4.6          3.1           1.5          0.2  setosa\n",
      "4           5.0          3.6           1.4          0.2  setosa\n"
     ]
    }
   ],
   "source": [
    "df = pd.read_csv(\"iris.csv\")\n",
    "print(\"Dataset shape:\", df.shape)\n",
    "print(\"Unique species:\", df['species'].unique())\n",
    "print(df.head(5))"
   ]
  },
  {
   "cell_type": "code",
   "execution_count": 14,
   "id": "298afed9-8f8f-4133-ac46-e46437b1b670",
   "metadata": {
    "tags": []
   },
   "outputs": [],
   "source": [
    "train, test = train_test_split(\n",
    "    df, \n",
    "    test_size=0.4, \n",
    "    stratify=df['species'], \n",
    "    random_state=42\n",
    ")"
   ]
  },
  {
   "cell_type": "code",
   "execution_count": 15,
   "id": "1b6a0d25-c8b6-4e5e-9c06-e20b18654add",
   "metadata": {
    "tags": []
   },
   "outputs": [],
   "source": [
    "feature_columns = ['sepal_length', 'sepal_width', 'petal_length', 'petal_width']\n",
    "X_train = train[feature_columns]\n",
    "y_train = train['species']\n",
    "X_test = test[feature_columns]\n",
    "y_test = test['species']"
   ]
  },
  {
   "cell_type": "code",
   "execution_count": 16,
   "id": "29c5db04-f425-4d2f-892a-ca7a90ae5f50",
   "metadata": {
    "tags": []
   },
   "outputs": [],
   "source": [
    "params = {\n",
    "    \"max_depth\": 3,\n",
    "    \"random_state\": 1\n",
    "}"
   ]
  },
  {
   "cell_type": "code",
   "execution_count": 19,
   "id": "34132703-17d9-463a-a492-c06869218275",
   "metadata": {
    "tags": []
   },
   "outputs": [
    {
     "name": "stderr",
     "output_type": "stream",
     "text": [
      "2025/07/20 03:05:33 WARNING mlflow.models.model: `artifact_path` is deprecated. Please use `name` instead.\n"
     ]
    },
    {
     "name": "stdout",
     "output_type": "stream",
     "text": [
      "Accuracy: 0.983\n"
     ]
    },
    {
     "name": "stderr",
     "output_type": "stream",
     "text": [
      "Registered model 'IRIS-classifier-decisiontrees' already exists. Creating a new version of this model...\n",
      "2025/07/20 03:05:36 INFO mlflow.store.model_registry.abstract_store: Waiting up to 300 seconds for model version to finish creation. Model name: IRIS-classifier-decisiontrees, version 2\n"
     ]
    },
    {
     "name": "stdout",
     "output_type": "stream",
     "text": [
      "Model logged to MLflow with run ID: 21fe001e72224902b74948e1ff4577a4\n",
      "🏃 View run unique-turtle-618 at: http://127.0.0.1:8100/#/experiments/389631125268629828/runs/21fe001e72224902b74948e1ff4577a4\n",
      "🧪 View experiment at: http://127.0.0.1:8100/#/experiments/389631125268629828\n"
     ]
    },
    {
     "name": "stderr",
     "output_type": "stream",
     "text": [
      "Created version '2' of model 'IRIS-classifier-decisiontrees'.\n"
     ]
    }
   ],
   "source": [
    "with mlflow.start_run():\n",
    "    model = DecisionTreeClassifier(**params)\n",
    "    model.fit(X_train, y_train)\n",
    "    preds = model.predict(X_test)\n",
    "    accuracy = metrics.accuracy_score(y_test, preds)\n",
    "    \n",
    "    print(f\"Accuracy: {accuracy:.3f}\")\n",
    "    \n",
    "    mlflow.log_params(params)\n",
    "    mlflow.log_metric(\"accuracy\", accuracy)\n",
    "    mlflow.set_tag(\"Training Info\", \"Decision tree model for IRIS data\")\n",
    "    \n",
    "    signature = infer_signature(X_train, model.predict(X_train))\n",
    "    \n",
    "    model_info = mlflow.sklearn.log_model(\n",
    "        sk_model=model,\n",
    "        artifact_path=\"iris_model\",\n",
    "        signature=signature,\n",
    "        input_example=X_train,\n",
    "        registered_model_name=\"IRIS-classifier-decisiontrees\",\n",
    "    )\n",
    "    print(f\"Model logged to MLflow with run ID: {mlflow.active_run().info.run_id}\")"
   ]
  },
  {
   "cell_type": "code",
   "execution_count": 20,
   "id": "e98d8f4a-c8ff-4b2c-9a37-eba3d4e0b02c",
   "metadata": {
    "tags": []
   },
   "outputs": [
    {
     "name": "stdout",
     "output_type": "stream",
     "text": [
      "Model saved to artifacts/model.joblib\n",
      "Copying file://artifacts/model.joblib [Content-Type=application/octet-stream]...\n",
      "/ [1 files][  2.5 KiB/  2.5 KiB]                                                \n",
      "Operation completed over 1 objects/2.5 KiB.                                      \n",
      "Model uploaded to gs://ibdpractice/my-models/iris/\n"
     ]
    }
   ],
   "source": [
    "os.makedirs(\"artifacts\", exist_ok=True)\n",
    "\n",
    "joblib.dump(model, \"artifacts/model.joblib\")\n",
    "print(\"Model saved to artifacts/model.joblib\")\n",
    "\n",
    "!gsutil cp artifacts/model.joblib {BUCKET_URI}/{MODEL_ARTIFACT_DIR}/\n",
    "print(f\"Model uploaded to {BUCKET_URI}/{MODEL_ARTIFACT_DIR}/\")"
   ]
  },
  {
   "cell_type": "code",
   "execution_count": 21,
   "id": "ff37d3f8-7a3c-4456-9626-9cda48485ed2",
   "metadata": {
    "tags": []
   },
   "outputs": [
    {
     "name": "stdout",
     "output_type": "stream",
     "text": [
      " \u001b[?25l\u001b[32m⠋\u001b[0m Checking graph\n",
      "Adding...                                                                       \n",
      "!\u001b[A\n",
      "Collecting files and computing hashes in iris.csv     |0.00 [00:00,     ?file/s]\u001b[A\n",
      "                                                                                \u001b[A\n",
      "!\u001b[A\n",
      "  0% Checking cache in '/home/jupyter/practice/.dvc/cache/files/md5'| |0/? [00:0\u001b[A\n",
      "                                                                                \u001b[A\n",
      "!\u001b[A\n",
      "  0%|          |Adding iris.csv to cache              0/1 [00:00<?,     ?file/s]\u001b[A\n",
      "                                                                                \u001b[A\n",
      "!\u001b[A\n",
      "  0%|          |Checking out /home/jupyter/practice/ir0/1 [00:00<?,    ?files/s]\u001b[A\n",
      "100% Adding...|████████████████████████████████████████|1/1 [00:00, 10.43file/s]\u001b[A\n",
      "\n",
      "To track the changes with git, run:\n",
      "\n",
      "\tgit add iris.csv.dvc .gitignore\n",
      "\n",
      "To enable auto staging, run:\n",
      "\n",
      "\tdvc config core.autostage true\n",
      " [0m\u001b[?25l\u001b[32m⠋\u001b[0m Checking graph\n",
      "Adding...                                                                       \n",
      "!\u001b[A\n",
      "Collecting files and computing hashes in artifacts/model.joblib |0.00 [00:00,   \u001b[A\n",
      "                                                                                \u001b[A\n",
      "!\u001b[A\n",
      "  0% Checking cache in '/home/jupyter/practice/.dvc/cache/files/md5'| |0/? [00:0\u001b[A\n",
      "                                                                                \u001b[A\n",
      "!\u001b[A\n",
      "  0%|          |Adding artifacts/model.joblib to cache0/1 [00:00<?,     ?file/s]\u001b[A\n",
      "                                                                                \u001b[A\n",
      "!\u001b[A\n",
      "  0%|          |Checking out /home/jupyter/practice/ar0/1 [00:00<?,    ?files/s]\u001b[A\n",
      "100% Adding...|████████████████████████████████████████|1/1 [00:00, 27.08file/s]\u001b[A\n",
      "\n",
      "To track the changes with git, run:\n",
      "\n",
      "\tgit add artifacts/model.joblib.dvc artifacts/.gitignore\n",
      "\n",
      "To enable auto staging, run:\n",
      "\n",
      "\tdvc config core.autostage true\n",
      "\u001b[0mDVC tracking configured for dataset and model\n"
     ]
    }
   ],
   "source": [
    "!dvc add iris.csv\n",
    "!echo '!iris.csv.dvc' >> .gitignore\n",
    "\n",
    "!dvc add artifacts/model.joblib\n",
    "!echo '!artifacts/**.dvc' >> .gitignore\n",
    "\n",
    "print(\"DVC tracking configured for dataset and model\")"
   ]
  },
  {
   "cell_type": "code",
   "execution_count": 22,
   "id": "68b70dfd-1f63-4426-bd24-c435adf40d7b",
   "metadata": {
    "tags": []
   },
   "outputs": [
    {
     "name": "stdout",
     "output_type": "stream",
     "text": [
      "[master (root-commit) 75804a5] Initial commit: iris dataset and model with DVC tracking\n",
      " 6 files changed, 19 insertions(+)\n",
      " create mode 100644 .dvc/.gitignore\n",
      " create mode 100644 .dvc/config\n",
      " create mode 100644 .dvcignore\n",
      " create mode 100644 .gitignore\n",
      " create mode 100644 artifacts/model.joblib.dvc\n",
      " create mode 100644 iris.csv.dvc\n",
      "Collecting                                            |3.00 [00:00,  171entry/s]\n",
      "Pushing\n",
      "!\u001b[A\n",
      "  0% Checking cache in 'ibdpractice/dvcstore/files/md5'| |0/? [00:00<?,    ?file\u001b[A\n",
      " 50% Querying cache in 'ibdpractice/dvcstore/files/md5'|▌|1/2 [00:00<00:00,  5.2\u001b[A\n",
      "Pushing                                                                         \u001b[A\n",
      "Everything is up to date.\n",
      "\u001b[0mData and model pushed to DVC remote storage\n",
      "[master 7d865b7] Complete MLOps setup: DVC + MLflow tracking\n",
      " 7 files changed, 1249 insertions(+)\n",
      " create mode 100644 .ipynb_checkpoints/Untitled-checkpoint.ipynb\n",
      " create mode 100644 Untitled.ipynb\n",
      " create mode 100644 artifacts/.gitignore\n",
      " create mode 100644 data/.gitignore\n",
      " create mode 100644 data/iris.csv.dvc\n",
      " create mode 100644 iris_pipeline.ipynb\n",
      "error: src refspec main does not match any\n",
      "\u001b[31merror: failed to push some refs to 'github.com:tarunarora6029/practice.git'\n",
      "\u001b[mPipeline complete! Data versioned with DVC, experiments tracked with MLflow\n"
     ]
    }
   ],
   "source": [
    "!git add .gitignore iris.csv.dvc artifacts/model.joblib.dvc\n",
    "!git commit -m \"Initial commit: iris dataset and model with DVC tracking\"\n",
    "\n",
    "!dvc push\n",
    "print(\"Data and model pushed to DVC remote storage\")\n",
    "\n",
    "!git add .\n",
    "!git commit -m \"Complete MLOps setup: DVC + MLflow tracking\"\n",
    "\n",
    "!git remote add origin git@github.com:tarunarora6029/practice.git\n",
    "!git push -u origin main --force\n",
    "\n",
    "print(\"Pipeline complete! Data versioned with DVC, experiments tracked with MLflow\")"
   ]
  },
  {
   "cell_type": "code",
   "execution_count": null,
   "id": "11ee28e9-da0f-4ec7-b51b-9b4310ef5c28",
   "metadata": {},
   "outputs": [],
   "source": [
    "print(\"\\n\" + \"=\"*60)\n",
    "print(\"PIPELINE SUMMARY\")\n",
    "print(\"=\"*60)\n",
    "print(f\"Model Accuracy: {accuracy:.3f}\")\n",
    "print(f\"Model saved to: artifacts/model.joblib\")\n",
    "print(f\"GCS location: {BUCKET_URI}/{MODEL_ARTIFACT_DIR}/\")\n",
    "print(f\"MLflow tracking URI: {mlflow.get_tracking_uri()}\")\n",
    "print(f\"Experiment: IRIS classifier: MLflow Hands-On\")\n",
    "print(\"DVC remote configured for data versioning\")\n",
    "print(\"Git repository updated with tracked artifacts\")\n",
    "print(\"=\"*60)"
   ]
  },
  {
   "cell_type": "code",
   "execution_count": null,
   "id": "1b2851c0-b601-4d48-a6e4-cc629e80d75c",
   "metadata": {},
   "outputs": [],
   "source": []
  },
  {
   "cell_type": "code",
   "execution_count": null,
   "id": "6ad0d898-8df0-40fc-b8b3-118d03c890d7",
   "metadata": {},
   "outputs": [],
   "source": []
  }
 ],
 "metadata": {
  "environment": {
   "kernel": "conda-base-py",
   "name": "workbench-notebooks.m131",
   "type": "gcloud",
   "uri": "us-docker.pkg.dev/deeplearning-platform-release/gcr.io/workbench-notebooks:m131"
  },
  "kernelspec": {
   "display_name": "Python 3 (ipykernel)",
   "language": "python",
   "name": "conda-base-py"
  },
  "language_info": {
   "codemirror_mode": {
    "name": "ipython",
    "version": 3
   },
   "file_extension": ".py",
   "mimetype": "text/x-python",
   "name": "python",
   "nbconvert_exporter": "python",
   "pygments_lexer": "ipython3",
   "version": "3.10.18"
  }
 },
 "nbformat": 4,
 "nbformat_minor": 5
}
